{
  "cells": [
    {
      "cell_type": "code",
      "execution_count": 58,
      "metadata": {
        "id": "d7QT-yfA3Hui"
      },
      "outputs": [],
      "source": [
        "import numpy as np\n",
        "import textwrap\n",
        "import nltk\n",
        "from nltk.corpus import stopwords\n",
        "from sklearn.feature_extraction.text import TfidfVectorizer"
      ]
    },
    {
      "cell_type": "code",
      "execution_count": 59,
      "metadata": {
        "colab": {
          "base_uri": "https://localhost:8080/"
        },
        "id": "prLsS-NQ5cFu",
        "outputId": "5e006db5-db9d-4191-d731-7ed440b88a6e"
      },
      "outputs": [
        {
          "name": "stderr",
          "output_type": "stream",
          "text": [
            "[nltk_data] Downloading package stopwords to /home/andre/nltk_data...\n",
            "[nltk_data]   Package stopwords is already up-to-date!\n"
          ]
        },
        {
          "data": {
            "text/plain": [
              "True"
            ]
          },
          "execution_count": 59,
          "metadata": {},
          "output_type": "execute_result"
        }
      ],
      "source": [
        "nltk.download('stopwords')"
      ]
    },
    {
      "cell_type": "code",
      "execution_count": 60,
      "metadata": {
        "id": "wTOu9nq24-pt"
      },
      "outputs": [],
      "source": [
        "def wrap(x):\n",
        "  return textwrap.fill(x, replace_whitespace=False, fix_sentence_endings=True)"
      ]
    },
    {
      "cell_type": "code",
      "execution_count": 61,
      "metadata": {
        "id": "o4FX3J9-8J0w"
      },
      "outputs": [],
      "source": [
        "def get_sentence_score(tfidf_row):\n",
        "  # return the average of the non-zero values\n",
        "  # of the tf-idf vector representation of a sentence\n",
        "  x = tfidf_row[tfidf_row != 0]\n",
        "  return x.mean()"
      ]
    },
    {
      "cell_type": "code",
      "execution_count": 62,
      "metadata": {},
      "outputs": [],
      "source": [
        "featurizer = TfidfVectorizer(\n",
        "    stop_words=stopwords.words('portuguese'),\n",
        "    norm='l1',\n",
        ")"
      ]
    },
    {
      "cell_type": "code",
      "execution_count": 67,
      "metadata": {
        "id": "Tl-6TdGNBeex"
      },
      "outputs": [],
      "source": [
        "def summarize(text, file):\n",
        "  # extract sentences\n",
        "  sents = nltk.sent_tokenize(text)\n",
        "\n",
        "  # perform tf-idf\n",
        "  X = featurizer.fit_transform(sents)\n",
        "\n",
        "  # compute scores for each sentence\n",
        "  scores = np.zeros(len(sents))\n",
        "  for i in range(len(sents)):\n",
        "    score = get_sentence_score(X[i,:])\n",
        "    scores[i] = score\n",
        "  \n",
        "  # sort the scores\n",
        "  sort_idx = np.argsort(-scores)\n",
        "\n",
        "  # open file.txt for include summarization\n",
        "  file = file.split('.')[0][:-8] + 'sumarizado.txt'\n",
        "  print(\"FILE\", file)\n",
        "  file_sumary = open(file, 'w')\n",
        "\n",
        "  print('SORT_IDX', sort_idx[:5])\n",
        "\n",
        "  # print summary\n",
        "  for i in sort_idx[:5]:\n",
        "    file_sumary.writelines(f'{sents[i]}\\n')\n",
        "\n",
        "  file_sumary.close()"
      ]
    },
    {
      "cell_type": "code",
      "execution_count": 69,
      "metadata": {
        "colab": {
          "base_uri": "https://localhost:8080/"
        },
        "id": "sa7IIQ2SbGH5",
        "outputId": "2310ad16-af9a-4787-85de-1561dd40d4a8"
      },
      "outputs": [
        {
          "name": "stdout",
          "output_type": "stream",
          "text": [
            "==================================================\n",
            "FILE sumarizado.txt\n",
            "SORT_IDX [202 147 261 225 201]\n",
            "==================================================\n",
            "FILE texto_entretenimento_sumarizado.txt\n",
            "SORT_IDX [1 5 6 4 3]\n",
            "==================================================\n",
            "FILE texto_esporte_sumarizado.txt\n",
            "SORT_IDX [21 12 20  9 19]\n",
            "==================================================\n",
            "FILE texto_negocio_sumarizado.txt\n",
            "SORT_IDX [29  5 33 27 17]\n",
            "==================================================\n",
            "FILE texto_politica_sumarizado.txt\n",
            "SORT_IDX [6 7 4 3 5]\n",
            "==================================================\n",
            "FILE texto_tecnologia_sumarizado.txt\n",
            "SORT_IDX [23 28 16 24 11]\n"
          ]
        }
      ],
      "source": [
        "files = [\n",
        "    'farrapos.txt',\n",
        "    'texto_entretenimento_original.txt',\n",
        "    'texto_esporte_original.txt',\n",
        "    'texto_negocio_original.txt',\n",
        "    'texto_politica_original.txt',\n",
        "    'texto_tecnologia_original.txt',\n",
        "]\n",
        "\n",
        "for file in files:\n",
        "    with open(file) as f:\n",
        "        noticia = f.read()\n",
        "\n",
        "    print('='*50)\n",
        "    summarize(noticia, file)"
      ]
    }
  ],
  "metadata": {
    "colab": {
      "name": "Text Summarization.ipynb",
      "provenance": []
    },
    "kernelspec": {
      "display_name": "Python 3",
      "name": "python3"
    },
    "language_info": {
      "codemirror_mode": {
        "name": "ipython",
        "version": 3
      },
      "file_extension": ".py",
      "mimetype": "text/x-python",
      "name": "python",
      "nbconvert_exporter": "python",
      "pygments_lexer": "ipython3",
      "version": "3.10.4"
    }
  },
  "nbformat": 4,
  "nbformat_minor": 0
}
