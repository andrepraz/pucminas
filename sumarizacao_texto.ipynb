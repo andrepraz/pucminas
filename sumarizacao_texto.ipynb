{
  "cells": [
    {
      "cell_type": "code",
      "execution_count": 12,
      "metadata": {
        "id": "d7QT-yfA3Hui"
      },
      "outputs": [],
      "source": [
        "import numpy as np\n",
        "import nltk\n",
        "from sklearn.feature_extraction.text import CountVectorizer"
      ]
    },
    {
      "cell_type": "code",
      "execution_count": 13,
      "metadata": {
        "id": "o4FX3J9-8J0w"
      },
      "outputs": [],
      "source": [
        "def get_sentence_score(count_vector_row):\n",
        "  # return the average of the non-zero values\n",
        "  # of the count vector representation of a sentence\n",
        "  x = count_vector_row[count_vector_row != 0]\n",
        "  return x.mean()"
      ]
    },
    {
      "cell_type": "code",
      "execution_count": 14,
      "metadata": {},
      "outputs": [],
      "source": [
        "featurizer = CountVectorizer()"
      ]
    },
    {
      "cell_type": "code",
      "execution_count": 15,
      "metadata": {
        "id": "Tl-6TdGNBeex"
      },
      "outputs": [],
      "source": [
        "def summarize(text, file):\n",
        "  # extract sentences\n",
        "  sents = nltk.sent_tokenize(text)\n",
        "\n",
        "  # perform CountVectorizer\n",
        "  X = featurizer.fit_transform(sents)\n",
        "\n",
        "  # compute scores for each sentence\n",
        "  scores = np.zeros(len(sents))\n",
        "  for i in range(len(sents)):\n",
        "    score = get_sentence_score(X[i,:])\n",
        "    scores[i] = score\n",
        "  \n",
        "  # sort the scores\n",
        "  sort_idx = np.argsort(-scores)\n",
        "\n",
        "  # open file.txt for include summarization\n",
        "  file = file.split('.')[0][:-8] + 'sumarizado.txt'\n",
        "  print(\"FILE\", file)\n",
        "  file_sumary = open(file, 'w')\n",
        "\n",
        "  print('SORT_IDX', sort_idx[:5])\n",
        "\n",
        "  # print summary\n",
        "  for i in sort_idx[:8]:\n",
        "    file_sumary.writelines(f'{scores[i]:.2f}: {sents[i]}\\n')\n",
        "\n",
        "  file_sumary.close()"
      ]
    },
    {
      "cell_type": "code",
      "execution_count": 16,
      "metadata": {
        "colab": {
          "base_uri": "https://localhost:8080/"
        },
        "id": "sa7IIQ2SbGH5",
        "outputId": "2310ad16-af9a-4787-85de-1561dd40d4a8"
      },
      "outputs": [
        {
          "name": "stdout",
          "output_type": "stream",
          "text": [
            "==================================================\n",
            "FILE texto_entretenimento_sumarizado.txt\n",
            "SORT_IDX [0 2 7 1 3]\n",
            "==================================================\n",
            "FILE texto_esporte_sumarizado.txt\n",
            "SORT_IDX [ 0 17 12 22  2]\n",
            "==================================================\n",
            "FILE texto_negocio_sumarizado.txt\n",
            "SORT_IDX [ 1 31  0 38 25]\n",
            "==================================================\n",
            "FILE texto_politica_sumarizado.txt\n",
            "SORT_IDX [0 4 9 7 1]\n",
            "==================================================\n",
            "FILE texto_tecnologia_sumarizado.txt\n",
            "SORT_IDX [37  7 29 19 22]\n",
            "==================================================\n",
            "FILE texto_resumo_sumarizado.txt\n",
            "SORT_IDX [6 9 1 5 8]\n",
            "==================================================\n"
          ]
        }
      ],
      "source": [
        "files = [\n",
        "    'texto_entretenimento_original.txt',\n",
        "    'texto_esporte_original.txt',\n",
        "    'texto_negocio_original.txt',\n",
        "    'texto_politica_original.txt',\n",
        "    'texto_tecnologia_original.txt'\n",
        "]\n",
        "\n",
        "print('='*50)\n",
        "for file in files:\n",
        "    with open(file) as f:\n",
        "        noticia = f.read()\n",
        "    summarize(noticia, file)\n",
        "    print('='*50)"
      ]
    }
  ],
  "metadata": {
    "colab": {
      "name": "Text Summarization.ipynb",
      "provenance": []
    },
    "kernelspec": {
      "display_name": "Python 3",
      "name": "python3"
    },
    "language_info": {
      "codemirror_mode": {
        "name": "ipython",
        "version": 3
      },
      "file_extension": ".py",
      "mimetype": "text/x-python",
      "name": "python",
      "nbconvert_exporter": "python",
      "pygments_lexer": "ipython3",
      "version": "3.10.4"
    }
  },
  "nbformat": 4,
  "nbformat_minor": 0
}
