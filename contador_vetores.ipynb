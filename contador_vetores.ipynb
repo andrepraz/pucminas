{
  "cells": [
    {
      "cell_type": "code",
      "execution_count": 229,
      "metadata": {
        "id": "-zs8rdgy7vPC"
      },
      "outputs": [],
      "source": [
        "import numpy as np\n",
        "import pandas as pd\n",
        "from sklearn.feature_extraction.text import CountVectorizer\n",
        "from sklearn.naive_bayes import MultinomialNB\n",
        "from sklearn.model_selection import train_test_split"
      ]
    },
    {
      "cell_type": "code",
      "execution_count": 230,
      "metadata": {
        "colab": {
          "base_uri": "https://localhost:8080/"
        },
        "id": "igzoYkaPZuxD",
        "outputId": "7ab00bcd-77f6-4daa-ff4f-fbd6ed49cabd"
      },
      "outputs": [],
      "source": [
        "# https://www.kaggle.com/shivamkushwaha/bbc-full-text-document-classification\n",
        "#!wget -nc https://lazyprogrammer.me/course_files/nlp/bbc_text_cls.csv"
      ]
    },
    {
      "cell_type": "code",
      "execution_count": 231,
      "metadata": {
        "id": "UWJlAKjhZsCa"
      },
      "outputs": [],
      "source": [
        "df = pd.read_csv('portuguese_bbc_text_cls.csv')"
      ]
    },
    {
      "cell_type": "code",
      "execution_count": 232,
      "metadata": {
        "colab": {
          "base_uri": "https://localhost:8080/",
          "height": 204
        },
        "id": "H93OPJ7Daz80",
        "outputId": "6e9485ca-c2ca-4033-d6e5-19151ea250f1"
      },
      "outputs": [
        {
          "data": {
            "text/html": [
              "<div>\n",
              "<style scoped>\n",
              "    .dataframe tbody tr th:only-of-type {\n",
              "        vertical-align: middle;\n",
              "    }\n",
              "\n",
              "    .dataframe tbody tr th {\n",
              "        vertical-align: top;\n",
              "    }\n",
              "\n",
              "    .dataframe thead th {\n",
              "        text-align: right;\n",
              "    }\n",
              "</style>\n",
              "<table border=\"1\" class=\"dataframe\">\n",
              "  <thead>\n",
              "    <tr style=\"text-align: right;\">\n",
              "      <th></th>\n",
              "      <th>text</th>\n",
              "      <th>labels</th>\n",
              "    </tr>\n",
              "  </thead>\n",
              "  <tbody>\n",
              "    <tr>\n",
              "      <th>0</th>\n",
              "      <td>Vendas de anúncios aumentam lucro da Time Warn...</td>\n",
              "      <td>negócio</td>\n",
              "    </tr>\n",
              "    <tr>\n",
              "      <th>1</th>\n",
              "      <td>Dólar ganha com discurso de Greenspan\\n\\nO dól...</td>\n",
              "      <td>negócio</td>\n",
              "    </tr>\n",
              "    <tr>\n",
              "      <th>2</th>\n",
              "      <td>Comprador de unidade da Yukos enfrenta pedido ...</td>\n",
              "      <td>negócio</td>\n",
              "    </tr>\n",
              "    <tr>\n",
              "      <th>3</th>\n",
              "      <td>Preços elevados dos combustíveis atingem os lu...</td>\n",
              "      <td>negócio</td>\n",
              "    </tr>\n",
              "    <tr>\n",
              "      <th>4</th>\n",
              "      <td>Negociação de aquisição da Pernod eleva Domecq...</td>\n",
              "      <td>negócio</td>\n",
              "    </tr>\n",
              "  </tbody>\n",
              "</table>\n",
              "</div>"
            ],
            "text/plain": [
              "                                                text   labels\n",
              "0  Vendas de anúncios aumentam lucro da Time Warn...  negócio\n",
              "1  Dólar ganha com discurso de Greenspan\\n\\nO dól...  negócio\n",
              "2  Comprador de unidade da Yukos enfrenta pedido ...  negócio\n",
              "3  Preços elevados dos combustíveis atingem os lu...  negócio\n",
              "4  Negociação de aquisição da Pernod eleva Domecq...  negócio"
            ]
          },
          "execution_count": 232,
          "metadata": {},
          "output_type": "execute_result"
        }
      ],
      "source": [
        "df.head()"
      ]
    },
    {
      "cell_type": "code",
      "execution_count": 233,
      "metadata": {
        "colab": {
          "base_uri": "https://localhost:8080/"
        },
        "id": "4hEL6501gwTS",
        "outputId": "a5c7977e-1c13-4bab-deb4-25f0b468a158"
      },
      "outputs": [
        {
          "data": {
            "text/plain": [
              "2225"
            ]
          },
          "execution_count": 233,
          "metadata": {},
          "output_type": "execute_result"
        }
      ],
      "source": [
        "len(df)"
      ]
    },
    {
      "cell_type": "code",
      "execution_count": 234,
      "metadata": {
        "id": "8RpcQdhKaw8a"
      },
      "outputs": [
        {
          "data": {
            "text/plain": [
              "array(['negócio', 'entretenimento', 'política', 'esporte', 'tecnologia'],\n",
              "      dtype=object)"
            ]
          },
          "execution_count": 234,
          "metadata": {},
          "output_type": "execute_result"
        }
      ],
      "source": [
        "inputs = df['text']\n",
        "labels = df['labels']\n",
        "labels.unique()"
      ]
    },
    {
      "cell_type": "code",
      "execution_count": 235,
      "metadata": {
        "colab": {
          "base_uri": "https://localhost:8080/",
          "height": 320
        },
        "id": "E7uYzc2vazYd",
        "outputId": "2ab3cfb5-183f-48d7-9cec-e33d840c07a0"
      },
      "outputs": [
        {
          "data": {
            "image/png": "[encoded data removed]",
            "text/plain": [
              "<Figure size 720x360 with 1 Axes>"
            ]
          },
          "metadata": {
            "needs_background": "light"
          },
          "output_type": "display_data"
        }
      ],
      "source": [
        "labels.hist(figsize=(10, 5));"
      ]
    },
    {
      "cell_type": "code",
      "execution_count": 236,
      "metadata": {
        "id": "2cQndMdQa_AV"
      },
      "outputs": [],
      "source": [
        "inputs_train, inputs_test, Ytrain, Ytest = train_test_split(inputs, labels)\n",
        "vectorizer = CountVectorizer()\n",
        "Xtrain = vectorizer.fit_transform(inputs_train)\n",
        "Xtest = vectorizer.transform(inputs_test)"
      ]
    },
    {
      "cell_type": "code",
      "execution_count": 237,
      "metadata": {
        "colab": {
          "base_uri": "https://localhost:8080/"
        },
        "id": "5gnL5nvWb7de",
        "outputId": "5cfd3793-6f32-44c6-e54a-69ba0a266893"
      },
      "outputs": [
        {
          "data": {
            "text/plain": [
              "<1668x33388 sparse matrix of type '<class 'numpy.int64'>'\n",
              "\twith 344852 stored elements in Compressed Sparse Row format>"
            ]
          },
          "execution_count": 237,
          "metadata": {},
          "output_type": "execute_result"
        }
      ],
      "source": [
        "Xtrain"
      ]
    },
    {
      "cell_type": "code",
      "execution_count": 238,
      "metadata": {
        "colab": {
          "base_uri": "https://localhost:8080/"
        },
        "id": "hIMJZINNU2Vh",
        "outputId": "98179cbe-6219-44fe-e957-750fdb2123f0"
      },
      "outputs": [
        {
          "data": {
            "text/plain": [
              "344852"
            ]
          },
          "execution_count": 238,
          "metadata": {},
          "output_type": "execute_result"
        }
      ],
      "source": [
        "(Xtrain != 0).sum() "
      ]
    },
    {
      "cell_type": "code",
      "execution_count": 239,
      "metadata": {
        "colab": {
          "base_uri": "https://localhost:8080/"
        },
        "id": "kBzp4dHGb8vW",
        "outputId": "64a0be9d-6f87-44f7-c3e5-93f0239bf7ca"
      },
      "outputs": [
        {
          "data": {
            "text/plain": [
              "0.006192218861786095"
            ]
          },
          "execution_count": 239,
          "metadata": {},
          "output_type": "execute_result"
        }
      ],
      "source": [
        "# what percentage of values are non-zero?\n",
        "(Xtrain != 0).sum() / np.prod(Xtrain.shape)"
      ]
    },
    {
      "cell_type": "code",
      "execution_count": 240,
      "metadata": {
        "colab": {
          "base_uri": "https://localhost:8080/"
        },
        "id": "xm9T3hR2bAuN",
        "outputId": "ff9f5448-8fd7-49e1-a038-9fc1cd878f5a"
      },
      "outputs": [
        {
          "name": "stdout",
          "output_type": "stream",
          "text": [
            "train score: 0.9958033573141487\n",
            "test score: 0.9730700179533214\n"
          ]
        }
      ],
      "source": [
        "model = MultinomialNB()\n",
        "model.fit(Xtrain, Ytrain)\n",
        "print(\"train score:\", model.score(Xtrain, Ytrain))\n",
        "print(\"test score:\", model.score(Xtest, Ytest))"
      ]
    },
    {
      "cell_type": "code",
      "execution_count": 241,
      "metadata": {},
      "outputs": [
        {
          "name": "stdout",
          "output_type": "stream",
          "text": [
            "resultado:  ['negócio']\n"
          ]
        }
      ],
      "source": [
        "noticia = [\"A economia da China cresceu apenas 4% no último trimestre de 2021, seu ritmo mais lento em um ano e meio, momento em que enquanto o país enfrentava uma crise imobiliária cada vez mais profunda, novos surtos de Covid-19 e a estrita abordagem de não-tolerância de Pequim para controlar o vírus. Ainda assim, esse número foi maior do que o esperado pelos economistas. Para todo o ano de 2021, o PIB cresceu 8,1%, praticamente em linha com as expectativas dos analistas. O governo chinês estabeleceu uma meta na primavera passada para que sua economia expandisse pelo menos 6% no ano.\"]\n",
        "\n",
        "noticia = vectorizer.transform(noticia)\n",
        "resultado = model.predict(noticia)\n",
        "print(\"resultado: \", resultado)\n"
      ]
    },
    {
      "cell_type": "code",
      "execution_count": 242,
      "metadata": {},
      "outputs": [
        {
          "name": "stdout",
          "output_type": "stream",
          "text": [
            "resultado:  ['tecnologia']\n"
          ]
        }
      ],
      "source": [
        "noticia = [\"O problema sanguíneo que dificulta ida de humanos a Marte Cientistas fizeram novas descobertas a respeito de por que as viagens espaciais fazem com que astronautas fiquem anêmicos, às vezes por longos períodos, ao retornarem à Terra. Pesquisadores canadenses afirmam que 50 % a mais de glóbulos vermelhos são destruídas no espaço, e isso continua a acontecer ao longo de toda a duração da missão. Como resultado, viagens longas à Lua, à Marte e além - incluindo viagens de turismo espacial - podem ser um desafio. Ao mesmo tempo, as descobertas podem ajudar pacientes hospitalizados em UTIs na Terra que também sofrem de anemia. Cientistas fizeram novas descobertas a respeito de por que as viagens espaciais fazem com que astronautas fiquem anêmicos, às vezes por longos períodos, ao retornarem à Terra. Pesquisadores canadenses afirmam que 50 % a mais de glóbulos vermelhos são destruídas no espaço, e isso continua a acontecer ao longo de toda a duração da missão. Como resultado, viagens longas à Lua, à Marte e além - incluindo viagens de turismo espacial - podem ser um desafio. Ao mesmo tempo, as descobertas podem ajudar pacientes hospitalizados em UTIs na Terra que também sofrem de anemia.\"]\n",
        "\n",
        "noticia = vectorizer.transform(noticia)\n",
        "resultado = model.predict(noticia)\n",
        "print(\"resultado: \", resultado)\n"
      ]
    },
    {
      "cell_type": "code",
      "execution_count": 243,
      "metadata": {},
      "outputs": [
        {
          "name": "stdout",
          "output_type": "stream",
          "text": [
            "resultado:  ['esporte']\n"
          ]
        }
      ],
      "source": [
        "noticia = [\"Real Madrid: Marcelo tem chance de superar Ramos e ficar a um passo de 'recorde inatingível' de lenda Real Madrid encara Athletic Bilbao neste domingo, na Arábia Saudita, e busca o 12º título da Supercopa da Espanha. Maior campeão é o Barcelona, com 13, enquanto time basco soma três Marcelo já é um dos maiores da história rica, gloriosa e mais que centenária do Real Madrid. Apesar de ter perdido espaço no time titular nos últimos anos, o brasileiro tem a chance de alcançar um feito impressionante neste domingo(16), na Arábia Saudita. Se o Real vencer o Athletic Bilbao e conquistar a Supercopa da Espanha, em partida com transmissão ao vivo pela ESPN no Star+, às 15h30(de Brasília), Marcelo se tornará, isoladamente, o segundo jogador com mais títulos pelo clube merengue. Star+, novo streaming da Disney Agora você pode assistir a todos os conteúdos da ESPN ao vivo quando e onde quiser no Star+. Um novo jeito de ver esportes. Assine já. O brasileiro soma 22 troféus desde que chegou ao Santiago Bernabéu, em 2006, e divide o posto com Sergio Ramos, zagueiro espanhol que hoje atua no Paris Saint-Germain, após deixar o Real Madrid há pouco mais de um semestre. Juntos, os dois ganharam os seguintes títulos: Quem lidera o ranking de campeões do clube é Francisco Gento, ponta esquerda espanhol que, para muitos, integra a seleção de todos os tempos do Real Madrid – o que só mostra o quanto ele jogava. 'Paco' Gento defendeu a camisa branca por 18 temporadas consecutivas, entre 1952 e 1971, e anotou 182 gols em 600 jogos oficiais. São, ao todo, 24 títulos no clube, entre eles seis edições da antiga Copa do Campeões, que se tornou a Champions. O rol de conquistas tem também uma 'Pequena Copa do Mundo', torneio disputado na Venezuela que Corinthians(1953) e São Paulo(1955 e 1963) ganharam, e duas vezes a Copa Latina, competição que tinha apenas equipes de Espanha, Portugal, França e Itália.\"]\n",
        "\n",
        "noticia = vectorizer.transform(noticia)\n",
        "resultado = model.predict(noticia)\n",
        "print(\"resultado: \", resultado)\n"
      ]
    },
    {
      "cell_type": "code",
      "execution_count": 244,
      "metadata": {},
      "outputs": [
        {
          "name": "stdout",
          "output_type": "stream",
          "text": [
            "resultado:  ['política']\n"
          ]
        }
      ],
      "source": [
        "noticia = [\"Rui Falcão contesta chapa Lula-Alckmin e vê contradição com as ideias do PT De acordo com o ex-presidente do partido, a aliança coloca em risco o programa de mudanças na economia O deputado federal Rui Falcão (PT-SP), que é também ex-presidente do Partido dos Trabalhadores, contestou a chapa Lula-Alckmin, em entrevista ao jornalista Ranier Bragon, publicada na Folha de S. Paulo. Lula não precisa de uma muleta eleitoral, afirmou. Temos um programa de reconstrução e transformação do país, como a Fundação Perseu Abramo vem trabalhando. Segundo, o Alckmin é a contradição a tudo isso que fizemos e pretendemos fazer. Terceiro, dá uma sinalização muito negativa para uma campanha que tem que ser aguerrida, mobilizada e com a construção de comitês de defesa da eleição do Lula que permaneçam depois como comitês de apoio do programa de transformação. Além do retrospecto das políticas que realizou como governador de São Paulo, do apoio ao impeachment e de suas posições ultraconservadoras, afirma.\"]\n",
        "\n",
        "noticia = vectorizer.transform(noticia)\n",
        "resultado = model.predict(noticia)\n",
        "print(\"resultado: \", resultado)\n"
      ]
    },
    {
      "cell_type": "code",
      "execution_count": 245,
      "metadata": {},
      "outputs": [
        {
          "name": "stdout",
          "output_type": "stream",
          "text": [
            "resultado:  ['entretenimento']\n"
          ]
        }
      ],
      "source": [
        "noticia = [\"Pânico desbanca Homem-Aranha e estreia no topo da bilheteria Novo filme da franquia arrecadou US$ 30, 6 milhões nos EUA Com uma arrecadação de US$ 30,6 milhões em seu final de semana de estreia, o novo Pânico desbancou Homem-Aranha: Sem Volta Para Casa do topo da bilheteria e chegou ao primeiro lugar nos Estados Unidos. O terceiro filme da franquia estrelada por Tom Holland, que passou quatro semanas em #1, arrecadou US$ 20,8 milhões nos últimos três dias e atualmente registra um total de US$ 698,7 milhões nos EUA. Com isso, o musical animado Sing 2 desceu para o terceiro lugar, com US$ 8,2 milhões a mais, ainda ficando a frente de As Agentes 355, que arrecadou mais US$ 2,34 milhões. Fechando o Top 5 ficou The King's Man: A Origem, com mais US$ 2,31 milhões e um total de US$ 28,6 milhões.\"]\n",
        "\n",
        "noticia = vectorizer.transform(noticia)\n",
        "resultado = model.predict(noticia)\n",
        "print(\"resultado: \", resultado)\n"
      ]
    },
    {
      "cell_type": "code",
      "execution_count": 246,
      "metadata": {},
      "outputs": [],
      "source": [
        "def result_classification(file):\n",
        "    with open(file) as f:\n",
        "        noticia = f.read()\n",
        "\n",
        "    noticia = vectorizer.transform([noticia])\n",
        "    resultado = model.predict(noticia)\n",
        "    print(f\"{file}: \", resultado)"
      ]
    },
    {
      "cell_type": "code",
      "execution_count": 247,
      "metadata": {},
      "outputs": [
        {
          "name": "stdout",
          "output_type": "stream",
          "text": [
            "==================================================\n",
            "texto_entretenimento_original.txt:  ['entretenimento']\n",
            "texto_entretenimento_sumarizado.txt:  ['entretenimento']\n",
            "==================================================\n",
            "texto_esporte_original.txt:  ['esporte']\n",
            "texto_esporte_sumarizado.txt:  ['esporte']\n",
            "==================================================\n",
            "texto_negocio_original.txt:  ['negócio']\n",
            "texto_negocio_sumarizado.txt:  ['negócio']\n",
            "==================================================\n",
            "texto_politica_original.txt:  ['política']\n",
            "texto_politica_sumarizado.txt:  ['negócio']\n",
            "==================================================\n",
            "texto_tecnologia_original.txt:  ['tecnologia']\n",
            "texto_tecnologia_sumarizado.txt:  ['tecnologia']\n",
            "==================================================\n"
          ]
        }
      ],
      "source": [
        "files = {\n",
        "    'texto_entretenimento_original.txt': 'texto_entretenimento_sumarizado.txt',\n",
        "    'texto_esporte_original.txt': 'texto_esporte_sumarizado.txt',\n",
        "    'texto_negocio_original.txt': 'texto_negocio_sumarizado.txt',\n",
        "    'texto_politica_original.txt': 'texto_politica_sumarizado.txt',\n",
        "    'texto_tecnologia_original.txt': 'texto_tecnologia_sumarizado.txt'\n",
        "}\n",
        "print('='*50)\n",
        "for file_key, file_value in files.items():\n",
        "    result_classification(file_key)\n",
        "    result_classification(file_value)\n",
        "    print('='*50)"
      ]
    }
  ],
  "metadata": {
    "colab": {
      "name": "Count Vectorizer.ipynb",
      "provenance": []
    },
    "kernelspec": {
      "display_name": "Python 3",
      "name": "python3"
    },
    "language_info": {
      "codemirror_mode": {
        "name": "ipython",
        "version": 3
      },
      "file_extension": ".py",
      "mimetype": "text/x-python",
      "name": "python",
      "nbconvert_exporter": "python",
      "pygments_lexer": "ipython3",
      "version": "3.10.4"
    }
  },
  "nbformat": 4,
  "nbformat_minor": 0
}
